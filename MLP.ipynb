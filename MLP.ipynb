{
 "cells": [
  {
   "cell_type": "code",
   "execution_count": 2,
   "id": "a5d358a4-7172-4be8-858c-75c4dca02077",
   "metadata": {},
   "outputs": [],
   "source": [
    "import torch\n",
    "import torch.nn.functional as F\n",
    "import matplotlib.pyplot as plt\n",
    "%matplotlib inline"
   ]
  },
  {
   "cell_type": "code",
   "execution_count": 17,
   "id": "fd910d06-f08c-44b9-a113-a62696190baa",
   "metadata": {},
   "outputs": [
    {
     "data": {
      "text/plain": [
       "['аасүрэн', 'аахүү', 'аажим', 'аадар', 'аажий', 'аандаа', 'аажимбаяр', 'аарон']"
      ]
     },
     "execution_count": 17,
     "metadata": {},
     "output_type": "execute_result"
    }
   ],
   "source": [
    "names = open(\"/home/tamir/workspace/makemore/name_scrapper/extracted_values.txt\", \"r\").read().splitlines()\n",
    "names = [name.lower() for name in names]\n",
    "names[:8]"
   ]
  },
  {
   "cell_type": "code",
   "execution_count": 18,
   "id": "78ba9b18-49ed-41d0-80ed-af78b63de7ca",
   "metadata": {},
   "outputs": [
    {
     "name": "stdout",
     "output_type": "stream",
     "text": [
      "{1: 'а', 2: 'б', 3: 'в', 4: 'г', 5: 'д', 6: 'е', 7: 'ж', 8: 'з', 9: 'и', 10: 'й', 11: 'к', 12: 'л', 13: 'м', 14: 'н', 15: 'о', 16: 'п', 17: 'р', 18: 'с', 19: 'т', 20: 'у', 21: 'ф', 22: 'х', 23: 'ц', 24: 'ч', 25: 'ш', 26: 'щ', 27: 'ъ', 28: 'ы', 29: 'ь', 30: 'э', 31: 'ю', 32: 'я', 33: 'ё', 34: 'ү', 35: 'ө', 0: '.'}\n"
     ]
    }
   ],
   "source": [
    "#build the vobaculary of characters and mappings to integer\n",
    "chars = sorted(list(set(\"\".join(names))))\n",
    "stoi = {s:i+1 for i,s in enumerate(chars)}\n",
    "stoi[\".\"] = 0\n",
    "itos = {i:s for s,i in stoi.items()}\n",
    "print(itos)"
   ]
  },
  {
   "cell_type": "code",
   "execution_count": 90,
   "id": "3c64b8c1-8ff2-4db5-8d53-b148e576b384",
   "metadata": {},
   "outputs": [],
   "source": [
    "#building the dataset\n",
    "def build_dataset(names):\n",
    "    block_size = 3\n",
    "    X, Y = [], []\n",
    "    \n",
    "    for w in names:\n",
    "        \n",
    "        context = [0] * block_size\n",
    "        for ch in w + \".\":\n",
    "            ix = stoi[ch]\n",
    "            X.append(context)\n",
    "            Y.append(ix)\n",
    "    \n",
    "            context = context[1:] + [ix]\n",
    "\n",
    "    X = torch.tensor(X)\n",
    "    Y = torch.tensor(Y)\n",
    "    return X, Y\n",
    "\n",
    "import random\n",
    "random.seed(42)\n",
    "random.shuffle(names)\n",
    "n1 = int(0.8*len(names))\n",
    "n2 = int(0.9*len(names))\n",
    "\n",
    "X, Y = build_dataset(names)\n",
    "\n",
    "Xtr, Ytr = X[:n1], Y[:n1]\n",
    "Xdev, Ydev = X[n1:n2], Y[n1:n2]\n",
    "Xval, Yval = X[n2:], Y[n2:]"
   ]
  },
  {
   "cell_type": "code",
   "execution_count": 91,
   "id": "b733dc57-dd2c-40d0-a071-b359cba281cd",
   "metadata": {},
   "outputs": [
    {
     "data": {
      "text/plain": [
       "(torch.Size([18909, 3]), torch.int64, torch.Size([18909]), torch.int64)"
      ]
     },
     "execution_count": 91,
     "metadata": {},
     "output_type": "execute_result"
    }
   ],
   "source": [
    "Xtr.shape, Xtr.dtype, Ytr.shape, Ytr.dtype"
   ]
  },
  {
   "cell_type": "code",
   "execution_count": 135,
   "id": "b4fb275a-bc71-43d3-ac80-7a2fd33b5716",
   "metadata": {},
   "outputs": [],
   "source": [
    "g = torch.Generator().manual_seed(95102218)\n",
    "C = torch.randn((36,10), requires_grad=True, generator=g)\n",
    "W1 = torch.randn((30,200), requires_grad=True, generator=g)\n",
    "B1 = torch.randn(200, requires_grad=True, generator=g)\n",
    "W2 = torch.randn((200, 36), requires_grad=True, generator=g)\n",
    "B2 = torch.randn(36, requires_grad=True, generator=g)\n",
    "parameters = [C, W1, B1, W2, B2]"
   ]
  },
  {
   "cell_type": "code",
   "execution_count": 136,
   "id": "69055bed-39c0-47b5-ae43-148bd7f083ca",
   "metadata": {},
   "outputs": [
    {
     "data": {
      "text/plain": [
       "13796"
      ]
     },
     "execution_count": 136,
     "metadata": {},
     "output_type": "execute_result"
    }
   ],
   "source": [
    "sum(p.nelement() for p in parameters) # number of parameters"
   ]
  },
  {
   "cell_type": "code",
   "execution_count": 137,
   "id": "f74555b0-5e7e-4daa-a883-6c8efa4040d3",
   "metadata": {},
   "outputs": [],
   "source": [
    "lossi = []\n",
    "stepi = []"
   ]
  },
  {
   "cell_type": "code",
   "execution_count": 138,
   "id": "743a8a7a-0c4b-4ffe-aec1-03dab2444468",
   "metadata": {},
   "outputs": [
    {
     "name": "stdout",
     "output_type": "stream",
     "text": [
      "1.306387186050415\n"
     ]
    }
   ],
   "source": [
    "for i in range(50000):\n",
    "\n",
    "    #minibatch\n",
    "    idx = torch.randint(0, Xtr.shape[0], (32,))\n",
    "    # forward pass\n",
    "    emb = C[Xtr[idx]]\n",
    "    h = torch.tanh(emb.view(-1,30) @ W1 + B1)\n",
    "    logits = h @ W2 + B2\n",
    "    loss = F.cross_entropy(logits, Ytr[idx])\n",
    "    #backward pass\n",
    "    for p in parameters:\n",
    "        p.grad = None\n",
    "    loss.backward()\n",
    "        \n",
    "    #update\n",
    "    for p in parameters:\n",
    "        p.data += -0.05 * p.grad \n",
    "\n",
    "    stepi.append(i)\n",
    "    lossi.append(loss.item())\n",
    "\n",
    "print(loss.item())"
   ]
  },
  {
   "cell_type": "code",
   "execution_count": 143,
   "id": "89ccb6cd-ba22-4530-b450-4d0e4f0c7827",
   "metadata": {},
   "outputs": [
    {
     "data": {
      "text/plain": [
       "2.670264482498169"
      ]
     },
     "execution_count": 143,
     "metadata": {},
     "output_type": "execute_result"
    }
   ],
   "source": [
    "emb = C[Xdev]\n",
    "h = torch.tanh(emb.view(-1, 30) @ W1 + B1)\n",
    "logits = h @ W2 + B2\n",
    "loss = F.cross_entropy(logits, Ydev)\n",
    "loss.item()"
   ]
  },
  {
   "cell_type": "code",
   "execution_count": 141,
   "id": "af1f4433-2f29-41e7-a0b9-46dd7531d191",
   "metadata": {},
   "outputs": [
    {
     "data": {
      "text/plain": [
       "[<matplotlib.lines.Line2D at 0x70ff046a5630>]"
      ]
     },
     "execution_count": 141,
     "metadata": {},
     "output_type": "execute_result"
    },
    {
     "data": {
      "image/png": "[encoded data removed]",
      "text/plain": [
       "<Figure size 640x480 with 1 Axes>"
      ]
     },
     "metadata": {},
     "output_type": "display_data"
    }
   ],
   "source": [
    "plt.plot(stepi, lossi)"
   ]
  },
  {
   "cell_type": "code",
   "execution_count": 129,
   "id": "d18de149-7e2b-448c-a0c8-efa10c6664ca",
   "metadata": {},
   "outputs": [
    {
     "data": {
      "image/png": "[encoded data removed]",
      "text/plain": [
       "<Figure size 800x800 with 1 Axes>"
      ]
     },
     "metadata": {},
     "output_type": "display_data"
    }
   ],
   "source": [
    "plt.figure(figsize=(8,8))\n",
    "plt.scatter(C[:,0].data, C[:,1].data, s=200)\n",
    "for i in range(C.shape[0]):\n",
    "    plt.text(C[i,0].item(), C[i,1].item(), itos[i], ha=\"center\", va=\"center\", color=\"white\")\n",
    "\n",
    "plt.grid('minor')"
   ]
  },
  {
   "cell_type": "code",
   "execution_count": 148,
   "id": "995330bc-197a-4fa7-beb2-0cf035499b3b",
   "metadata": {},
   "outputs": [
    {
     "name": "stdout",
     "output_type": "stream",
     "text": [
      "лүмдэмбэрдигчаа.\n",
      "херцэцэг.\n",
      "занд.\n",
      "ашидэрмарысбердиенжгээ.\n",
      "бет.\n",
      "кетебек.\n",
      "рай.\n",
      "ажефаримил.\n",
      "ойшийн.\n",
      "бондахишигбат.\n"
     ]
    }
   ],
   "source": [
    "#sampling the model\n",
    "\n",
    "g = torch.Generator().manual_seed(95102218 + 10)\n",
    "\n",
    "for _ in range(10):\n",
    "    out = []\n",
    "    context = [0] * block_size\n",
    "\n",
    "    while True:\n",
    "        emb = C[torch.tensor([context])]\n",
    "        h = torch.tanh(emb.view(1, -1) @ W1 + B1)\n",
    "        logits = h @ W2 + B2\n",
    "        probs = F.softmax(logits, dim=1)\n",
    "        idx = torch.multinomial(probs, num_samples=1, generator=g).item()\n",
    "        context = context[1:] + [idx]\n",
    "        out.append(idx)\n",
    "        if idx == 0:\n",
    "            break\n",
    "\n",
    "    print(''.join(itos[i] for i in out))"
   ]
  },
  {
   "cell_type": "code",
   "execution_count": null,
   "id": "71328abc-7722-4d40-a040-dde684b48be1",
   "metadata": {},
   "outputs": [],
   "source": []
  }
 ],
 "metadata": {
  "kernelspec": {
   "display_name": "Python 3 (ipykernel)",
   "language": "python",
   "name": "python3"
  },
  "language_info": {
   "codemirror_mode": {
    "name": "ipython",
    "version": 3
   },
   "file_extension": ".py",
   "mimetype": "text/x-python",
   "name": "python",
   "nbconvert_exporter": "python",
   "pygments_lexer": "ipython3",
   "version": "3.10.12"
  }
 },
 "nbformat": 4,
 "nbformat_minor": 5
}
